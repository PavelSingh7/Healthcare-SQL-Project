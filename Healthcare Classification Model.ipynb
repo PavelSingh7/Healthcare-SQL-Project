{
 "cells": [
  {
   "cell_type": "code",
   "execution_count": 8,
   "id": "4a3353f9",
   "metadata": {},
   "outputs": [],
   "source": [
    "import numpy as np\n",
    "import pandas as pd"
   ]
  },
  {
   "cell_type": "code",
   "execution_count": 9,
   "id": "5c994669",
   "metadata": {},
   "outputs": [],
   "source": [
    "import pyodbc\n"
   ]
  },
  {
   "cell_type": "code",
   "execution_count": 37,
   "id": "46e23dcd",
   "metadata": {},
   "outputs": [],
   "source": [
    "server = 'localhost,1433'\n",
    "database = 'Healthcare_database'\n",
    "username = 'username'\n",
    "password = '********'\n",
    "\n",
    "connection_string = f'DRIVER={{SQL Server}};SERVER={server};DATABASE={database};UID={username};PWD={password}'\n"
   ]
  },
  {
   "cell_type": "code",
   "execution_count": 38,
   "id": "457fa34b",
   "metadata": {},
   "outputs": [],
   "source": [
    "# Establish the connection\n",
    "connection = pyodbc.connect(connection_string)\n",
    "\n"
   ]
  },
  {
   "cell_type": "markdown",
   "id": "30b0ff45",
   "metadata": {},
   "source": [
    "# Preparing Dataset"
   ]
  },
  {
   "cell_type": "code",
   "execution_count": 39,
   "id": "8a1a9909",
   "metadata": {
    "scrolled": true
   },
   "outputs": [
    {
     "name": "stderr",
     "output_type": "stream",
     "text": [
      "C:\\Users\\pavel\\anaconda3\\lib\\site-packages\\pandas\\io\\sql.py:761: UserWarning: pandas only support SQLAlchemy connectable(engine/connection) ordatabase string URI or sqlite3 DBAPI2 connectionother DBAPI2 objects are not tested, please consider using SQLAlchemy\n",
      "  warnings.warn(\n"
     ]
    },
    {
     "name": "stdout",
     "output_type": "stream",
     "text": [
      "       ENCOUNTERCLASS  encounter_code  BASE_ENCOUNTER_COST  TOTAL_CLAIM_COST  \\\n",
      "0            wellness       410620009           129.160004        471.980011   \n",
      "1          ambulatory       185345009            77.489998       2363.810059   \n",
      "2            wellness       308646001           129.160004          0.000000   \n",
      "3           inpatient       185347001            77.489998      10956.370117   \n",
      "4           inpatient       185347001            77.489998      10956.370117   \n",
      "...               ...             ...                  ...               ...   \n",
      "177057     ambulatory       185345009            77.489998      14501.769531   \n",
      "177058      inpatient       310061009           129.160004       3243.429932   \n",
      "177059      inpatient       310061009           129.160004       3243.429932   \n",
      "177060     urgentcare       702927004           129.160004        129.160004   \n",
      "177061     outpatient       698314001           129.160004        129.160004   \n",
      "\n",
      "       condition_code  BASE_IMMUNE_COST IMMUNE_CODE  Procedure_Code  \\\n",
      "0                None               NaN        None             NaN   \n",
      "1            43878008               NaN        None     117015009.0   \n",
      "2                None               NaN        None             NaN   \n",
      "3                None               NaN        None     398171003.0   \n",
      "4                None               NaN        None     703423002.0   \n",
      "...               ...               ...         ...             ...   \n",
      "177057      423315002               NaN        None             NaN   \n",
      "177058           None               NaN        None      35025007.0   \n",
      "177059           None               NaN        None      90226004.0   \n",
      "177060           None               NaN        None             NaN   \n",
      "177061           None               NaN        None             NaN   \n",
      "\n",
      "        BASE_Procedure_Cost  \n",
      "0                       NaN  \n",
      "1               2286.320068  \n",
      "2                       NaN  \n",
      "3                516.650024  \n",
      "4               9845.580078  \n",
      "...                     ...  \n",
      "177057                  NaN  \n",
      "177058           153.279999  \n",
      "177059          2960.989990  \n",
      "177060                  NaN  \n",
      "177061                  NaN  \n",
      "\n",
      "[177062 rows x 9 columns]\n"
     ]
    }
   ],
   "source": [
    "query = \"select encounters.ENCOUNTERCLASS,encounters.CODE AS encounter_code,encounters.BASE_ENCOUNTER_COST,encounters.TOTAL_CLAIM_COST,conditions.CODE As condition_code,immunizations.BASE_COST As BASE_IMMUNE_COST, immunizations.CODE as IMMUNE_CODE,procedures.CODE AS Procedure_Code, procedures.BASE_COST AS BASE_Procedure_Cost from (((encounters full join conditions on encounters.Id=conditions.ENCOUNTER) full join immunizations on encounters.Id =immunizations.ENCOUNTER) full join procedures on encounters.Id=procedures.ENCOUNTER)\"\n",
    "df = pd.read_sql(query, connection)\n",
    "\n",
    "# Display the DataFrame\n",
    "print(df)"
   ]
  },
  {
   "cell_type": "code",
   "execution_count": 40,
   "id": "8dcd6acd",
   "metadata": {
    "scrolled": false
   },
   "outputs": [
    {
     "data": {
      "text/html": [
       "<div>\n",
       "<style scoped>\n",
       "    .dataframe tbody tr th:only-of-type {\n",
       "        vertical-align: middle;\n",
       "    }\n",
       "\n",
       "    .dataframe tbody tr th {\n",
       "        vertical-align: top;\n",
       "    }\n",
       "\n",
       "    .dataframe thead th {\n",
       "        text-align: right;\n",
       "    }\n",
       "</style>\n",
       "<table border=\"1\" class=\"dataframe\">\n",
       "  <thead>\n",
       "    <tr style=\"text-align: right;\">\n",
       "      <th></th>\n",
       "      <th>ENCOUNTERCLASS</th>\n",
       "      <th>encounter_code</th>\n",
       "      <th>BASE_ENCOUNTER_COST</th>\n",
       "      <th>TOTAL_CLAIM_COST</th>\n",
       "      <th>condition_code</th>\n",
       "      <th>BASE_IMMUNE_COST</th>\n",
       "      <th>IMMUNE_CODE</th>\n",
       "      <th>Procedure_Code</th>\n",
       "      <th>BASE_Procedure_Cost</th>\n",
       "    </tr>\n",
       "  </thead>\n",
       "  <tbody>\n",
       "    <tr>\n",
       "      <th>0</th>\n",
       "      <td>wellness</td>\n",
       "      <td>410620009</td>\n",
       "      <td>129.160004</td>\n",
       "      <td>471.980011</td>\n",
       "      <td>None</td>\n",
       "      <td>NaN</td>\n",
       "      <td>None</td>\n",
       "      <td>NaN</td>\n",
       "      <td>NaN</td>\n",
       "    </tr>\n",
       "    <tr>\n",
       "      <th>1</th>\n",
       "      <td>ambulatory</td>\n",
       "      <td>185345009</td>\n",
       "      <td>77.489998</td>\n",
       "      <td>2363.810059</td>\n",
       "      <td>43878008</td>\n",
       "      <td>NaN</td>\n",
       "      <td>None</td>\n",
       "      <td>117015009.0</td>\n",
       "      <td>2286.320068</td>\n",
       "    </tr>\n",
       "    <tr>\n",
       "      <th>2</th>\n",
       "      <td>wellness</td>\n",
       "      <td>308646001</td>\n",
       "      <td>129.160004</td>\n",
       "      <td>0.000000</td>\n",
       "      <td>None</td>\n",
       "      <td>NaN</td>\n",
       "      <td>None</td>\n",
       "      <td>NaN</td>\n",
       "      <td>NaN</td>\n",
       "    </tr>\n",
       "    <tr>\n",
       "      <th>3</th>\n",
       "      <td>inpatient</td>\n",
       "      <td>185347001</td>\n",
       "      <td>77.489998</td>\n",
       "      <td>10956.370117</td>\n",
       "      <td>None</td>\n",
       "      <td>NaN</td>\n",
       "      <td>None</td>\n",
       "      <td>398171003.0</td>\n",
       "      <td>516.650024</td>\n",
       "    </tr>\n",
       "    <tr>\n",
       "      <th>4</th>\n",
       "      <td>inpatient</td>\n",
       "      <td>185347001</td>\n",
       "      <td>77.489998</td>\n",
       "      <td>10956.370117</td>\n",
       "      <td>None</td>\n",
       "      <td>NaN</td>\n",
       "      <td>None</td>\n",
       "      <td>703423002.0</td>\n",
       "      <td>9845.580078</td>\n",
       "    </tr>\n",
       "  </tbody>\n",
       "</table>\n",
       "</div>"
      ],
      "text/plain": [
       "  ENCOUNTERCLASS  encounter_code  BASE_ENCOUNTER_COST  TOTAL_CLAIM_COST  \\\n",
       "0       wellness       410620009           129.160004        471.980011   \n",
       "1     ambulatory       185345009            77.489998       2363.810059   \n",
       "2       wellness       308646001           129.160004          0.000000   \n",
       "3      inpatient       185347001            77.489998      10956.370117   \n",
       "4      inpatient       185347001            77.489998      10956.370117   \n",
       "\n",
       "  condition_code  BASE_IMMUNE_COST IMMUNE_CODE  Procedure_Code  \\\n",
       "0           None               NaN        None             NaN   \n",
       "1       43878008               NaN        None     117015009.0   \n",
       "2           None               NaN        None             NaN   \n",
       "3           None               NaN        None     398171003.0   \n",
       "4           None               NaN        None     703423002.0   \n",
       "\n",
       "   BASE_Procedure_Cost  \n",
       "0                  NaN  \n",
       "1          2286.320068  \n",
       "2                  NaN  \n",
       "3           516.650024  \n",
       "4          9845.580078  "
      ]
     },
     "execution_count": 40,
     "metadata": {},
     "output_type": "execute_result"
    }
   ],
   "source": [
    "df.head()"
   ]
  },
  {
   "cell_type": "markdown",
   "id": "8531475c",
   "metadata": {},
   "source": [
    "## Cleaning the Dataset"
   ]
  },
  {
   "cell_type": "code",
   "execution_count": 42,
   "id": "5a49e680",
   "metadata": {},
   "outputs": [
    {
     "data": {
      "text/plain": [
       "ENCOUNTERCLASS             0\n",
       "encounter_code             0\n",
       "BASE_ENCOUNTER_COST        0\n",
       "TOTAL_CLAIM_COST           0\n",
       "condition_code         51384\n",
       "BASE_IMMUNE_COST       95280\n",
       "IMMUNE_CODE            95280\n",
       "Procedure_Code         42319\n",
       "BASE_Procedure_Cost    42319\n",
       "dtype: int64"
      ]
     },
     "execution_count": 42,
     "metadata": {},
     "output_type": "execute_result"
    }
   ],
   "source": [
    "df.isnull().sum()"
   ]
  },
  {
   "cell_type": "code",
   "execution_count": 43,
   "id": "54285e1d",
   "metadata": {
    "scrolled": true
   },
   "outputs": [
    {
     "name": "stdout",
     "output_type": "stream",
     "text": [
      "<class 'pandas.core.frame.DataFrame'>\n",
      "RangeIndex: 177062 entries, 0 to 177061\n",
      "Data columns (total 9 columns):\n",
      " #   Column               Non-Null Count   Dtype  \n",
      "---  ------               --------------   -----  \n",
      " 0   ENCOUNTERCLASS       177062 non-null  object \n",
      " 1   encounter_code       177062 non-null  int64  \n",
      " 2   BASE_ENCOUNTER_COST  177062 non-null  float64\n",
      " 3   TOTAL_CLAIM_COST     177062 non-null  float64\n",
      " 4   condition_code       125678 non-null  object \n",
      " 5   BASE_IMMUNE_COST     81782 non-null   float64\n",
      " 6   IMMUNE_CODE          81782 non-null   object \n",
      " 7   Procedure_Code       134743 non-null  float64\n",
      " 8   BASE_Procedure_Cost  134743 non-null  float64\n",
      "dtypes: float64(5), int64(1), object(3)\n",
      "memory usage: 12.2+ MB\n"
     ]
    }
   ],
   "source": [
    "df.info()"
   ]
  },
  {
   "cell_type": "code",
   "execution_count": 44,
   "id": "d2304cc0",
   "metadata": {},
   "outputs": [
    {
     "data": {
      "text/html": [
       "<div>\n",
       "<style scoped>\n",
       "    .dataframe tbody tr th:only-of-type {\n",
       "        vertical-align: middle;\n",
       "    }\n",
       "\n",
       "    .dataframe tbody tr th {\n",
       "        vertical-align: top;\n",
       "    }\n",
       "\n",
       "    .dataframe thead th {\n",
       "        text-align: right;\n",
       "    }\n",
       "</style>\n",
       "<table border=\"1\" class=\"dataframe\">\n",
       "  <thead>\n",
       "    <tr style=\"text-align: right;\">\n",
       "      <th></th>\n",
       "      <th>encounter_code</th>\n",
       "      <th>BASE_ENCOUNTER_COST</th>\n",
       "      <th>TOTAL_CLAIM_COST</th>\n",
       "      <th>BASE_IMMUNE_COST</th>\n",
       "      <th>Procedure_Code</th>\n",
       "      <th>BASE_Procedure_Cost</th>\n",
       "    </tr>\n",
       "  </thead>\n",
       "  <tbody>\n",
       "    <tr>\n",
       "      <th>count</th>\n",
       "      <td>1.770620e+05</td>\n",
       "      <td>177062.000000</td>\n",
       "      <td>177062.000000</td>\n",
       "      <td>81782.000000</td>\n",
       "      <td>1.347430e+05</td>\n",
       "      <td>134743.000000</td>\n",
       "    </tr>\n",
       "    <tr>\n",
       "      <th>mean</th>\n",
       "      <td>2.312906e+08</td>\n",
       "      <td>116.931340</td>\n",
       "      <td>6823.643896</td>\n",
       "      <td>140.520004</td>\n",
       "      <td>1.282967e+14</td>\n",
       "      <td>1924.503270</td>\n",
       "    </tr>\n",
       "    <tr>\n",
       "      <th>std</th>\n",
       "      <td>1.270388e+08</td>\n",
       "      <td>21.961731</td>\n",
       "      <td>17376.536528</td>\n",
       "      <td>0.000000</td>\n",
       "      <td>8.778058e+14</td>\n",
       "      <td>5893.270851</td>\n",
       "    </tr>\n",
       "    <tr>\n",
       "      <th>min</th>\n",
       "      <td>1.505002e+06</td>\n",
       "      <td>77.489998</td>\n",
       "      <td>0.000000</td>\n",
       "      <td>140.520004</td>\n",
       "      <td>1.225002e+06</td>\n",
       "      <td>0.730000</td>\n",
       "    </tr>\n",
       "    <tr>\n",
       "      <th>25%</th>\n",
       "      <td>1.626730e+08</td>\n",
       "      <td>129.160004</td>\n",
       "      <td>678.479980</td>\n",
       "      <td>140.520004</td>\n",
       "      <td>2.251580e+08</td>\n",
       "      <td>516.650024</td>\n",
       "    </tr>\n",
       "    <tr>\n",
       "      <th>50%</th>\n",
       "      <td>1.626730e+08</td>\n",
       "      <td>129.160004</td>\n",
       "      <td>1135.810059</td>\n",
       "      <td>140.520004</td>\n",
       "      <td>7.108240e+08</td>\n",
       "      <td>516.650024</td>\n",
       "    </tr>\n",
       "    <tr>\n",
       "      <th>75%</th>\n",
       "      <td>3.083350e+08</td>\n",
       "      <td>129.160004</td>\n",
       "      <td>1776.910034</td>\n",
       "      <td>140.520004</td>\n",
       "      <td>7.633020e+08</td>\n",
       "      <td>516.650024</td>\n",
       "    </tr>\n",
       "    <tr>\n",
       "      <th>max</th>\n",
       "      <td>7.029270e+08</td>\n",
       "      <td>129.160004</td>\n",
       "      <td>873646.187500</td>\n",
       "      <td>140.520004</td>\n",
       "      <td>1.633503e+16</td>\n",
       "      <td>623242.000000</td>\n",
       "    </tr>\n",
       "  </tbody>\n",
       "</table>\n",
       "</div>"
      ],
      "text/plain": [
       "       encounter_code  BASE_ENCOUNTER_COST  TOTAL_CLAIM_COST  \\\n",
       "count    1.770620e+05        177062.000000     177062.000000   \n",
       "mean     2.312906e+08           116.931340       6823.643896   \n",
       "std      1.270388e+08            21.961731      17376.536528   \n",
       "min      1.505002e+06            77.489998          0.000000   \n",
       "25%      1.626730e+08           129.160004        678.479980   \n",
       "50%      1.626730e+08           129.160004       1135.810059   \n",
       "75%      3.083350e+08           129.160004       1776.910034   \n",
       "max      7.029270e+08           129.160004     873646.187500   \n",
       "\n",
       "       BASE_IMMUNE_COST  Procedure_Code  BASE_Procedure_Cost  \n",
       "count      81782.000000    1.347430e+05        134743.000000  \n",
       "mean         140.520004    1.282967e+14          1924.503270  \n",
       "std            0.000000    8.778058e+14          5893.270851  \n",
       "min          140.520004    1.225002e+06             0.730000  \n",
       "25%          140.520004    2.251580e+08           516.650024  \n",
       "50%          140.520004    7.108240e+08           516.650024  \n",
       "75%          140.520004    7.633020e+08           516.650024  \n",
       "max          140.520004    1.633503e+16        623242.000000  "
      ]
     },
     "execution_count": 44,
     "metadata": {},
     "output_type": "execute_result"
    }
   ],
   "source": [
    "df.describe()"
   ]
  },
  {
   "cell_type": "markdown",
   "id": "e9f0e48e",
   "metadata": {},
   "source": [
    "#### Filling null values with 0 because the code can be 0 if patient doesn't have any condition,immune or procedure code. Also simultaneously the Base cost will be 0 too."
   ]
  },
  {
   "cell_type": "code",
   "execution_count": 45,
   "id": "b8b7f186",
   "metadata": {},
   "outputs": [],
   "source": [
    "columns_to_fill = ['condition_code','BASE_IMMUNE_COST','IMMUNE_CODE','Procedure_Code','BASE_Procedure_Cost']"
   ]
  },
  {
   "cell_type": "code",
   "execution_count": 46,
   "id": "56810bc6",
   "metadata": {},
   "outputs": [],
   "source": [
    "df[columns_to_fill]=df[columns_to_fill].fillna(0)"
   ]
  },
  {
   "cell_type": "code",
   "execution_count": 47,
   "id": "4fb9baf4",
   "metadata": {
    "scrolled": true
   },
   "outputs": [
    {
     "data": {
      "text/plain": [
       "ENCOUNTERCLASS         0\n",
       "encounter_code         0\n",
       "BASE_ENCOUNTER_COST    0\n",
       "TOTAL_CLAIM_COST       0\n",
       "condition_code         0\n",
       "BASE_IMMUNE_COST       0\n",
       "IMMUNE_CODE            0\n",
       "Procedure_Code         0\n",
       "BASE_Procedure_Cost    0\n",
       "dtype: int64"
      ]
     },
     "execution_count": 47,
     "metadata": {},
     "output_type": "execute_result"
    }
   ],
   "source": [
    "df.isnull().sum()"
   ]
  },
  {
   "cell_type": "markdown",
   "id": "ed8bea47",
   "metadata": {},
   "source": [
    "## Modeling"
   ]
  },
  {
   "cell_type": "code",
   "execution_count": 48,
   "id": "30fd348c",
   "metadata": {},
   "outputs": [],
   "source": [
    "from sklearn.model_selection import train_test_split\n",
    "from sklearn.neighbors import KNeighborsClassifier\n",
    "from sklearn.metrics import accuracy_score, classification_report"
   ]
  },
  {
   "cell_type": "code",
   "execution_count": 49,
   "id": "f1e3227e",
   "metadata": {},
   "outputs": [],
   "source": [
    "X=df.drop(['ENCOUNTERCLASS','BASE_Procedure_Cost','BASE_ENCOUNTER_COST','BASE_IMMUNE_COST','TOTAL_CLAIM_COST'],axis=1)"
   ]
  },
  {
   "cell_type": "code",
   "execution_count": 50,
   "id": "87bf8352",
   "metadata": {},
   "outputs": [],
   "source": [
    "y=df['ENCOUNTERCLASS']"
   ]
  },
  {
   "cell_type": "code",
   "execution_count": 51,
   "id": "f38e9515",
   "metadata": {},
   "outputs": [
    {
     "data": {
      "text/html": [
       "<div>\n",
       "<style scoped>\n",
       "    .dataframe tbody tr th:only-of-type {\n",
       "        vertical-align: middle;\n",
       "    }\n",
       "\n",
       "    .dataframe tbody tr th {\n",
       "        vertical-align: top;\n",
       "    }\n",
       "\n",
       "    .dataframe thead th {\n",
       "        text-align: right;\n",
       "    }\n",
       "</style>\n",
       "<table border=\"1\" class=\"dataframe\">\n",
       "  <thead>\n",
       "    <tr style=\"text-align: right;\">\n",
       "      <th></th>\n",
       "      <th>encounter_code</th>\n",
       "      <th>condition_code</th>\n",
       "      <th>IMMUNE_CODE</th>\n",
       "      <th>Procedure_Code</th>\n",
       "    </tr>\n",
       "  </thead>\n",
       "  <tbody>\n",
       "    <tr>\n",
       "      <th>0</th>\n",
       "      <td>410620009</td>\n",
       "      <td>0</td>\n",
       "      <td>0</td>\n",
       "      <td>0.0</td>\n",
       "    </tr>\n",
       "    <tr>\n",
       "      <th>1</th>\n",
       "      <td>185345009</td>\n",
       "      <td>43878008</td>\n",
       "      <td>0</td>\n",
       "      <td>117015009.0</td>\n",
       "    </tr>\n",
       "    <tr>\n",
       "      <th>2</th>\n",
       "      <td>308646001</td>\n",
       "      <td>0</td>\n",
       "      <td>0</td>\n",
       "      <td>0.0</td>\n",
       "    </tr>\n",
       "    <tr>\n",
       "      <th>3</th>\n",
       "      <td>185347001</td>\n",
       "      <td>0</td>\n",
       "      <td>0</td>\n",
       "      <td>398171003.0</td>\n",
       "    </tr>\n",
       "    <tr>\n",
       "      <th>4</th>\n",
       "      <td>185347001</td>\n",
       "      <td>0</td>\n",
       "      <td>0</td>\n",
       "      <td>703423002.0</td>\n",
       "    </tr>\n",
       "  </tbody>\n",
       "</table>\n",
       "</div>"
      ],
      "text/plain": [
       "   encounter_code condition_code IMMUNE_CODE  Procedure_Code\n",
       "0       410620009              0           0             0.0\n",
       "1       185345009       43878008           0     117015009.0\n",
       "2       308646001              0           0             0.0\n",
       "3       185347001              0           0     398171003.0\n",
       "4       185347001              0           0     703423002.0"
      ]
     },
     "execution_count": 51,
     "metadata": {},
     "output_type": "execute_result"
    }
   ],
   "source": [
    "X.head()"
   ]
  },
  {
   "cell_type": "code",
   "execution_count": 52,
   "id": "c05b732c",
   "metadata": {},
   "outputs": [
    {
     "data": {
      "text/plain": [
       "0      wellness\n",
       "1    ambulatory\n",
       "2      wellness\n",
       "3     inpatient\n",
       "4     inpatient\n",
       "Name: ENCOUNTERCLASS, dtype: object"
      ]
     },
     "execution_count": 52,
     "metadata": {},
     "output_type": "execute_result"
    }
   ],
   "source": [
    "y.head()"
   ]
  },
  {
   "cell_type": "code",
   "execution_count": 53,
   "id": "f7db61b5",
   "metadata": {},
   "outputs": [],
   "source": [
    "X_train, X_test, y_train, y_test = train_test_split(X, y, test_size=0.2, random_state=42)"
   ]
  },
  {
   "cell_type": "code",
   "execution_count": 54,
   "id": "1963e834",
   "metadata": {},
   "outputs": [],
   "source": [
    "import matplotlib.pyplot as plt\n",
    "from sklearn.model_selection import cross_val_score"
   ]
  },
  {
   "cell_type": "code",
   "execution_count": 55,
   "id": "a0ed8ab9",
   "metadata": {},
   "outputs": [
    {
     "data": {
      "image/png": "[encoded data removed]",
      "text/plain": [
       "<Figure size 432x288 with 1 Axes>"
      ]
     },
     "metadata": {
      "needs_background": "light"
     },
     "output_type": "display_data"
    }
   ],
   "source": [
    "k_values = np.arange(1, 21)\n",
    "accuracy_scores = []\n",
    "\n",
    "for k in k_values:\n",
    "    model = KNeighborsClassifier(n_neighbors=k)\n",
    "    scores = cross_val_score(model, X_train, y_train, cv=5)  # 5-fold cross-validation\n",
    "    accuracy_scores.append(np.mean(scores))\n",
    "\n",
    "# Plot the results\n",
    "plt.plot(k_values, accuracy_scores, marker='o')\n",
    "plt.xlabel('Number of Neighbors (k)')\n",
    "plt.ylabel('Cross-Validated Accuracy')\n",
    "plt.title('Choosing k with the Elbow Method')\n",
    "plt.show()"
   ]
  },
  {
   "cell_type": "code",
   "execution_count": 59,
   "id": "5da653a7",
   "metadata": {},
   "outputs": [
    {
     "data": {
      "text/plain": [
       "KNeighborsClassifier(n_neighbors=6)"
      ]
     },
     "execution_count": 59,
     "metadata": {},
     "output_type": "execute_result"
    }
   ],
   "source": [
    "k = 6  # Choose the number of neighbors\n",
    "model1 = KNeighborsClassifier(n_neighbors=k)\n",
    "model1.fit(X_train, y_train)"
   ]
  },
  {
   "cell_type": "code",
   "execution_count": 60,
   "id": "d18ff4c3",
   "metadata": {},
   "outputs": [],
   "source": [
    "# Make predictions\n",
    "y_pred = model1.predict(X_test)"
   ]
  },
  {
   "cell_type": "code",
   "execution_count": 61,
   "id": "d1529d64",
   "metadata": {
    "scrolled": true
   },
   "outputs": [
    {
     "name": "stdout",
     "output_type": "stream",
     "text": [
      "Accuracy: 0.9787083839268066\n",
      "Classification Report:\n",
      "               precision    recall  f1-score   support\n",
      "\n",
      "  ambulatory       0.95      0.97      0.96      8254\n",
      "   emergency       0.97      0.99      0.98       691\n",
      "   inpatient       0.96      0.93      0.94      1026\n",
      "  outpatient       0.95      0.92      0.93      4944\n",
      "  urgentcare       1.00      1.00      1.00       555\n",
      "    wellness       1.00      1.00      1.00     19943\n",
      "\n",
      "    accuracy                           0.98     35413\n",
      "   macro avg       0.97      0.97      0.97     35413\n",
      "weighted avg       0.98      0.98      0.98     35413\n",
      "\n"
     ]
    }
   ],
   "source": [
    "# Evaluate the model\n",
    "accuracy = accuracy_score(y_test, y_pred)\n",
    "report = classification_report(y_test, y_pred)\n",
    "\n",
    "print(f'Accuracy: {accuracy}')\n",
    "print('Classification Report:\\n', report)"
   ]
  }
 ],
 "metadata": {
  "kernelspec": {
   "display_name": "Python 3 (ipykernel)",
   "language": "python",
   "name": "python3"
  },
  "language_info": {
   "codemirror_mode": {
    "name": "ipython",
    "version": 3
   },
   "file_extension": ".py",
   "mimetype": "text/x-python",
   "name": "python",
   "nbconvert_exporter": "python",
   "pygments_lexer": "ipython3",
   "version": "3.9.12"
  }
 },
 "nbformat": 4,
 "nbformat_minor": 5
}
